{
 "cells": [
  {
   "cell_type": "code",
   "execution_count": null,
   "metadata": {},
   "outputs": [],
   "source": [
    "import qiskit\n",
    "from qiskit_aer import AerSimulator\n",
    "from qiskit_ibm_runtime import SamplerV2\n",
    "import qiskit.visualization as qv\n",
    "import qiskit.quantum_info\n",
    "import numpy as np"
   ]
  },
  {
   "cell_type": "code",
   "execution_count": null,
   "metadata": {},
   "outputs": [],
   "source": [
    "bell_state = qiskit.QuantumCircuit(2)\n",
    "bell_state.h(0)\n",
    "bell_state.cx(0,1)\n",
    "\n",
    "bell_state.draw('mpl')"
   ]
  },
  {
   "cell_type": "code",
   "execution_count": null,
   "metadata": {},
   "outputs": [],
   "source": [
    "bell_state_vector = qiskit.quantum_info.Statevector([np.sqrt(3)/2,0,0,1/2])\n",
    "bell_state_vector.draw('latex')\n"
   ]
  },
  {
   "cell_type": "code",
   "execution_count": null,
   "metadata": {},
   "outputs": [],
   "source": [
    "bell_state = qiskit.QuantumCircuit(2)\n",
    "bell_state.initialize(bell_state_vector)\n",
    "bell_state.draw('mpl')"
   ]
  },
  {
   "cell_type": "code",
   "execution_count": null,
   "metadata": {},
   "outputs": [],
   "source": [
    "qc_z = bell_state.copy()\n",
    "qc_z.measure_all()\n",
    "qc_z.draw('mpl')"
   ]
  },
  {
   "cell_type": "code",
   "execution_count": null,
   "metadata": {},
   "outputs": [],
   "source": [
    "qc_x = bell_state.copy()\n",
    "qc_x.h(0)\n",
    "qc_x.h(1)\n",
    "qc_x.measure_all()\n",
    "qc_x.draw('mpl')"
   ]
  },
  {
   "cell_type": "code",
   "execution_count": null,
   "metadata": {},
   "outputs": [],
   "source": [
    "qc_y = bell_state.copy()\n",
    "qc_y.h(0)\n",
    "qc_y.h(1)\n",
    "qc_y.sdg(0)\n",
    "qc_y.sdg(1)\n",
    "qc_y.measure_all()\n",
    "qc_y.draw('mpl')"
   ]
  },
  {
   "cell_type": "code",
   "execution_count": null,
   "metadata": {},
   "outputs": [],
   "source": [
    "backend = AerSimulator()\n",
    "sampler = SamplerV2(backend)\n",
    "job = sampler.run([qc_z],shots=4096)\n",
    "result = job.result()[0]\n",
    "counts= result.data.meas.get_counts()\n",
    "qv.plot_histogram(counts)"
   ]
  },
  {
   "cell_type": "code",
   "execution_count": null,
   "metadata": {},
   "outputs": [],
   "source": []
  },
  {
   "cell_type": "code",
   "execution_count": null,
   "metadata": {},
   "outputs": [],
   "source": []
  }
 ],
 "metadata": {
  "kernelspec": {
   "display_name": "qiskit_env",
   "language": "python",
   "name": "python3"
  },
  "language_info": {
   "codemirror_mode": {
    "name": "ipython",
    "version": 3
   },
   "file_extension": ".py",
   "mimetype": "text/x-python",
   "name": "python",
   "nbconvert_exporter": "python",
   "pygments_lexer": "ipython3",
   "version": "3.12.3"
  }
 },
 "nbformat": 4,
 "nbformat_minor": 2
}
