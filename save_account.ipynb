{
 "cells": [
  {
   "cell_type": "code",
   "execution_count": null,
   "metadata": {},
   "outputs": [],
   "source": [
    "from qiskit_ibm_runtime import QiskitRuntimeService\n",
    "QiskitRuntimeService.save_account(channel=\"ibm_quantum\",token=\"035001f3fac0d3b35457d1ecbb0829cde6d5ece11198d5317dfdc02b0c0df82e7cc99aaf14162aca6a01390f2a52ec6ec9f7c68023000700cf59bc5b53ea029d\")"
   ]
  }
 ],
 "metadata": {
  "kernelspec": {
   "display_name": "qiskit_enviroment",
   "language": "python",
   "name": "python3"
  },
  "language_info": {
   "codemirror_mode": {
    "name": "ipython",
    "version": 3
   },
   "file_extension": ".py",
   "mimetype": "text/x-python",
   "name": "python",
   "nbconvert_exporter": "python",
   "pygments_lexer": "ipython3",
   "version": "3.12.3"
  }
 },
 "nbformat": 4,
 "nbformat_minor": 2
}
